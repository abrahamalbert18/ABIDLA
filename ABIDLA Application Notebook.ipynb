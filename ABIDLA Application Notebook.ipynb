{
 "cells": [
  {
   "cell_type": "markdown",
   "metadata": {},
   "source": [
    "## Cell 1: Import Libraries"
   ]
  },
  {
   "cell_type": "code",
   "execution_count": 3,
   "metadata": {},
   "outputs": [],
   "source": [
    "\"\"\"\n",
    "@author: Albert\n",
    "\"\"\"\n",
    "import sys\n",
    "sys.path.append(\".\")\n",
    "sys.path.append(\"..\")\n",
    "\n",
    "import numpy as np\n",
    "import pandas as pd\n",
    "import time\n",
    "import os\n",
    "import torch\n",
    "import torch.nn as nn\n",
    "import torch.nn.functional as F\n",
    "import torchvision.models as models\n",
    "from torchvision import transforms\n",
    "from PIL import Image\n",
    "import matplotlib.pyplot as plt\n",
    "from matplotlib.pyplot import imshow\n",
    "%matplotlib inline\n",
    "from Modules.Models import Models\n",
    "import warnings\n",
    "warnings.filterwarnings(\"ignore\")"
   ]
  },
  {
   "cell_type": "markdown",
   "metadata": {},
   "source": [
    "## Cell 2: Initialising algorithm and required transformations"
   ]
  },
  {
   "cell_type": "code",
   "execution_count": 4,
   "metadata": {},
   "outputs": [],
   "source": [
    "numberOfClasses = 7\n",
    "pretrained = True\n",
    "modelArchitecture = \"densenet121\"\n",
    "net = Models(numberOfClasses = 7, pretrained = pretrained, model = modelArchitecture)\n",
    "modelName = \"Model/ABIDLA.tar\"\n",
    "state = torch.load(modelName)\n",
    "net.load_state_dict(state[\"model\"])\n",
    "device = torch.device(\"cpu\")\n",
    "net.to(device)\n",
    "net.eval()\n",
    "\n",
    "softmax = nn.Softmax()\n",
    "\n",
    "transformCompose = transforms.Compose([ transforms.ToPILImage(),\n",
    "                                        transforms.Scale((224,224)),\n",
    "                                        transforms.ToTensor()])"
   ]
  },
  {
   "cell_type": "markdown",
   "metadata": {},
   "source": [
    "## Cell 3\n",
    "### Please copy images to the Data folder and run the below cell to save ABIDLA's predictions in Outputs folder."
   ]
  },
  {
   "cell_type": "code",
   "execution_count": 5,
   "metadata": {
    "scrolled": false
   },
   "outputs": [
    {
     "name": "stdout",
     "output_type": "stream",
     "text": [
      "Predictions file already exists in the 'Outputs/ABIDLAPredictions.csv'.\n",
      "Please delete the existing Outputs/ABIDLAPredictions.csv to rerun the code.\n"
     ]
    }
   ],
   "source": [
    "classes = [\"Beer Cup\", \"Beer Bottle\", \"Beer Can\", \n",
    "           \"Wine\", \"Champagne\", \"Undecided\", \"Other\"]\n",
    "\n",
    "imageDir = \"./Data/\"\n",
    "listOfImages = os.listdir(imageDir)\n",
    "listOfImages.sort(key=lambda x: x[:-4])\n",
    "totalNumberOfImages = len(listOfImages)\n",
    "\n",
    "t0 = time.time()\n",
    "\n",
    "outputFilename = \"Outputs/ABIDLAPredictions.csv\" #Output filename\n",
    "\n",
    "if os.path.exists(outputFilename):\n",
    "    print(f\"Predictions file already exists in the \\'{outputFilename}\\'.\")\n",
    "    print(f\"Please delete the existing {outputFilename} to rerun the code.\")\n",
    "    \n",
    "else:\n",
    "    with open(outputFilename,\"w\") as file:\n",
    "        file.write(f\"ImageName,ModelPrediction1,Probability1(%),ModelPrediction2,Probability2(%)\")\n",
    "        print(f\"Displaying ABIDLA predictions on first 5 images:\")\n",
    "        \n",
    "        for e, imageName in enumerate(listOfImages):\n",
    "            originalImageName = imageName\n",
    "            imageName = os.path.join(imageDir,imageName)\n",
    "            image = Image.open(imageName).convert(\"RGB\")\n",
    "            if e < 5:\n",
    "                plt.figure()\n",
    "                imshow(image)\n",
    "                plt.pause(0.0001)\n",
    "            image = np.asarray(image)\n",
    "            image = transformCompose(image)\n",
    "            image = image[None, :, :,:]\n",
    "            image = image.to(device)\n",
    "            output = net(image)\n",
    "\n",
    "            _, prediction =  torch.max(output,1)\n",
    "            probabilities = softmax(output)\n",
    "\n",
    "            top3Classes, indices = probabilities.topk(3)\n",
    "            highestProbabilty, secondHighestProbability = top3Classes[0,0], top3Classes[0,1]\n",
    "            thridHighestProbability = top3Classes[0,2]\n",
    "            BestPrediction, SecondBestPrediction = classes[indices[0,0]], classes[indices[0,1]]\n",
    "            ThirdBestPrediction = classes[indices[0,2]]\n",
    "            file.write(f\"\\n{originalImageName},{BestPrediction},\"\n",
    "                       f\"{str(round(float(highestProbabilty), 2)*100)},\"\n",
    "                       f\"{SecondBestPrediction}, {str(round(float(secondHighestProbability), 2)*100)}\")\n",
    "            if e < 5:\n",
    "                print(f\"Image name:{originalImageName}\")\n",
    "                print(f\"Model predicts : {BestPrediction} \" \n",
    "                      f\"with a probability of {str(round(float(highestProbabilty), 2)*100)} %\")\n",
    "                print(f\"Model predicts : {SecondBestPrediction}\" \n",
    "                      f\"with a probability of {str(round(float(secondHighestProbability), 2)*100)} %\")\n",
    "                print(f\"Model predicts : {ThirdBestPrediction}\" \n",
    "                      f\"with a probability of {str(round(float(thridHighestProbability), 2)*100)} %\")\n",
    "\n",
    "    t1 = time.time()\n",
    "    totalTimeTaken = t1 - t0\n",
    "    print(f\"\\nModel Prediction is completed\")\n",
    "    print(f\"Model Predicted {len(listOfImages)} image(s) \" \n",
    "          f\"in {str(round(totalTimeTaken / 60, 2))} m and {str(round(totalTimeTaken % 60, 2))} seconds.\")\n",
    "    print(f\"ABIDLA outputs can be found at {outputFilename}\")"
   ]
  }
 ],
 "metadata": {
  "kernelspec": {
   "display_name": "Python 3 (ipykernel)",
   "language": "python",
   "name": "python3"
  },
  "language_info": {
   "codemirror_mode": {
    "name": "ipython",
    "version": 3
   },
   "file_extension": ".py",
   "mimetype": "text/x-python",
   "name": "python",
   "nbconvert_exporter": "python",
   "pygments_lexer": "ipython3",
   "version": "3.7.11"
  }
 },
 "nbformat": 4,
 "nbformat_minor": 2
}
